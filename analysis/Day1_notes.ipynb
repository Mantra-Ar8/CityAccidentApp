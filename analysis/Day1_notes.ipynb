{
 "cells": [
  {
   "cell_type": "markdown",
   "id": "c9534b48-9d7b-4e56-b561-5a4b683bddce",
   "metadata": {},
   "source": [
    "# Day 1 Notes"
   ]
  },
  {
   "cell_type": "markdown",
   "id": "f66186ba-0d97-43f3-92c8-70cc42fd5ade",
   "metadata": {},
   "source": [
    "# ARPIT - DAY 1\n",
    "- Installed Python 3.x\n",
    "- Installed Jupyter Notebook\n",
    "- Installed libraries: pandas, numpy, matplotlib, seaborn, scikit-learn, folium, flask\n",
    "- Created project folder structure:\n",
    "  - data/\n",
    "  - analysis/\n",
    "  - app/\n",
    "  - templates/\n",
    "  - static/\n",
    "    \n",
    "![Arpit Folder Structure](../static/Arpit_folder1.png)\n",
    "![Arpit Folder Structure](../static/Arpit_folder2.png)"
   ]
  },
  {
   "cell_type": "code",
   "execution_count": null,
   "id": "a9f13c5e-b462-41be-bc82-b477b286f851",
   "metadata": {},
   "outputs": [],
   "source": []
  }
 ],
 "metadata": {
  "kernelspec": {
   "display_name": "Python 3 (ipykernel)",
   "language": "python",
   "name": "python3"
  },
  "language_info": {
   "codemirror_mode": {
    "name": "ipython",
    "version": 3
   },
   "file_extension": ".py",
   "mimetype": "text/x-python",
   "name": "python",
   "nbconvert_exporter": "python",
   "pygments_lexer": "ipython3",
   "version": "3.13.7"
  }
 },
 "nbformat": 4,
 "nbformat_minor": 5
}
