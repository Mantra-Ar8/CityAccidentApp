{
 "cells": [
  {
   "cell_type": "markdown",
   "id": "c9534b48-9d7b-4e56-b561-5a4b683bddce",
   "metadata": {},
   "source": [
    "# Day 1 Notes\n",
    "- Installed Python 3.x\n",
    "- Installed Jupyter Notebook\n",
    "- Installed libraries: pandas, numpy, matplotlib, seaborn, scikit-learn, folium, flask\n",
    "- Created project folder structure:\n",
    "  - data/\n",
    "  - analysis/\n",
    "  - app/\n",
    "  - templates/\n",
    "  - static/\n"
   ]
  }
 ],
 "metadata": {
  "kernelspec": {
   "display_name": "Python 3 (ipykernel)",
   "language": "python",
   "name": "python3"
  },
  "language_info": {
   "codemirror_mode": {
    "name": "ipython",
    "version": 3
   },
   "file_extension": ".py",
   "mimetype": "text/x-python",
   "name": "python",
   "nbconvert_exporter": "python",
   "pygments_lexer": "ipython3",
   "version": "3.13.7"
  }
 },
 "nbformat": 4,
 "nbformat_minor": 5
}
